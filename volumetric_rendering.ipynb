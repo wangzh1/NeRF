{
 "cells": [
  {
   "cell_type": "code",
   "execution_count": 1,
   "metadata": {
    "collapsed": true
   },
   "outputs": [],
   "source": [
    "import numpy as np\n",
    "import matplotlib.pyplot as plt\n",
    "import torch"
   ]
  },
  {
   "cell_type": "code",
   "execution_count": 2,
   "metadata": {
    "collapsed": false
   },
   "outputs": [],
   "source": [
    "H = 400 # Height of an image\n",
    "W = 400 # Width of an image\n",
    "f = 1200 # Focal distance"
   ]
  },
  {
   "cell_type": "code",
   "execution_count": 3,
   "metadata": {
    "collapsed": false
   },
   "outputs": [],
   "source": [
    "rays_o = np.zeros((H*W, 3)) # Focal origin\n",
    "rays_d = np.zeros((H*W, 3)) # Direction of each ray\n",
    "\n",
    "u = np.arange(W)\n",
    "v = np.arange(H)\n",
    "\n",
    "u, v = np.meshgrid(u, v) # initialize image grid\n",
    "\n",
    "dirs = np.stack((u - W / 2,\n",
    "                 -(v - H / 2),\n",
    "                 -np.ones_like(u) * f), axis=-1) # stack the 3 vectors together\n",
    "rays_d = dirs / np.linalg.norm(dirs, axis=-1, keepdims=True) # normalize the direction vector\n",
    "rays_d = rays_d.reshape(-1,3)"
   ]
  },
  {
   "cell_type": "code",
   "execution_count": 4,
   "metadata": {
    "collapsed": false
   },
   "outputs": [],
   "source": [
    "def plot_rays(o, d, t):\n",
    "    fig = plt.figure(figsize=(12, 12))\n",
    "    ax = plt.axes(projection='3d')\n",
    "\n",
    "    pt1 = o\n",
    "    pt2 = o + t * d # where the ray is after time t\n",
    "\n",
    "    for p1, p2 in zip(pt1[::10], pt2[::10]): # merge 2 stuff together (pytorch)\n",
    "        plt.plot([p1[0], p2[0]], [p1[1], p2[1]], [p1[2], p2[2]])\n",
    "\n",
    "    plt.show()"
   ]
  },
  {
   "cell_type": "code",
   "execution_count": 5,
   "metadata": {
    "collapsed": false
   },
   "outputs": [],
   "source": [
    "#plot_rays(rays_o, rays_d, 1)"
   ]
  },
  {
   "cell_type": "code",
   "execution_count": 6,
   "metadata": {
    "collapsed": false
   },
   "outputs": [],
   "source": [
    "class Sphere:\n",
    "    def __init__(self, position, radius, color):\n",
    "        self.position = position\n",
    "        self.radius = radius\n",
    "        self.color = color\n",
    "\n",
    "    def intersect(self, x):\n",
    "        # To make sure point x is inside the sphere so that it contains volume\n",
    "        \"\"\"\n",
    "        :param x: [batch_size, 3]\n",
    "        \"\"\"\n",
    "        cond = (x[:, 0] - self.position[0])**2 + (x[:, 1] - self.position[1])**2 + (x[:, 2] - self.position[2])**2 <= self.radius**2\n",
    "\n",
    "        num_rays = x.shape[0] # length of first dimension\n",
    "        colors = torch.zeros((num_rays, 3))\n",
    "        density = torch.zeros((num_rays, 1))\n",
    "        colors[cond] = self.color\n",
    "        density[cond] = 10\n",
    "        return colors, density"
   ]
  },
  {
   "cell_type": "code",
   "execution_count": 7,
   "metadata": {
    "collapsed": false
   },
   "outputs": [],
   "source": [
    "s = Sphere(np.array([0., 0., -1.]), .1, np.array([1., 0., 0.]))"
   ]
  },
  {
   "cell_type": "code",
   "execution_count": 8,
   "metadata": {},
   "outputs": [],
   "source": [
    "def compute_accumulated_transmittance(betas):\n",
    "    # Returns the cumulative product of elements of input in the dimension dim.\n",
    "    accumulated_transmittance = torch.cumprod(betas, 1)\n",
    "    return accumulated_transmittance\n"
   ]
  },
  {
   "cell_type": "code",
   "execution_count": 16,
   "metadata": {
    "collapsed": false
   },
   "outputs": [],
   "source": [
    "# tn, tf represent near and far bound\n",
    "def rendering(model, rays_o, rays_d, tn, tf, num_bins=100, device='cpu'):\n",
    "    t = torch.linspace(tn, tf, num_bins).to(device) # size: [num_bins]\n",
    "\n",
    "    # 1: start from 1,\n",
    "    # -1: start from 0, not include -1\n",
    "    # delta_i is the distance between adjacent samples.\n",
    "    delta = torch.cat((t[1:] - t[:-1], torch.tensor([1e10])))\n",
    "\n",
    "\n",
    "    \"\"\"\n",
    "    shape:\n",
    "    t: [num_bins]\n",
    "    ray_o: [num_rays, 3]\n",
    "    We want x: [num_rays, num_bins, 3]\n",
    "    Because for each ray, we need num_bins points,\n",
    "    the extra 3 dimensions contain position info.\n",
    "    So in order to get that dimension, virtual dimensions are\n",
    "    added like:\n",
    "    t: [1, num_bins, 1]\n",
    "    ray_o: [num_rays, 1, 3]\n",
    "    !!!!x currently is many many empty rays with many bins!!!!\n",
    "    we intersect the model with x, then we can get\n",
    "    many rendered rays.\n",
    "    \"\"\"\n",
    "    x = rays_o.unsqueeze(1) + t.unsqueeze(0).unsqueeze(-1) * rays_d.unsqueeze(1)\n",
    "    # Now x: [batch_size, 3]\n",
    "\n",
    "\n",
    "    colors, density = model.intersect(x.reshape(-1, 3))\n",
    "\n",
    "    colors = colors.reshape((x.shape[0], num_bins, 3)) # [num_rays, num_bins, 3]\n",
    "    density = density.reshape((x.shape[0], num_bins)) # [num_rays, num_bins]\n",
    "\n",
    "    alpha = 1 - torch.exp(-density * delta.unsqueeze(0)) # [num_rays, num_bins]\n",
    "    T = compute_accumulated_transmittance(1 - alpha)\n",
    "    c = (T.unsqueeze(-1) * alpha.unsqueeze(-1) * colors).sum(1) # [num_rays, 3] because sum(1)"
   ]
  },
  {
   "cell_type": "code",
   "execution_count": 17,
   "metadata": {
    "collapsed": false
   },
   "outputs": [
    {
     "name": "stdout",
     "output_type": "stream",
     "text": [
      "torch.Size([160000, 100])\n",
      "torch.Size([160000, 100])\n",
      "torch.Size([160000, 100, 3])\n"
     ]
    }
   ],
   "source": [
    "sphere_model = Sphere(torch.zeros(3), 0.1, torch.tensor([1., 0., 0.]))\n",
    "rendering(sphere_model, torch.from_numpy(rays_o), torch.from_numpy(rays_d), 0.8, 1.2)"
   ]
  },
  {
   "cell_type": "code",
   "execution_count": null,
   "metadata": {
    "collapsed": false
   },
   "outputs": [],
   "source": []
  }
 ],
 "metadata": {
  "kernelspec": {
   "display_name": "Python 3",
   "language": "python",
   "name": "python3"
  },
  "language_info": {
   "codemirror_mode": {
    "name": "ipython",
    "version": 3
   },
   "file_extension": ".py",
   "mimetype": "text/x-python",
   "name": "python",
   "nbconvert_exporter": "python",
   "pygments_lexer": "ipython3",
   "version": "3.9.13"
  }
 },
 "nbformat": 4,
 "nbformat_minor": 0
}

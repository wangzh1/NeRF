{
 "cells": [
  {
   "cell_type": "code",
   "execution_count": 1,
   "metadata": {
    "collapsed": true
   },
   "outputs": [],
   "source": [
    "import numpy as np\n",
    "import matplotlib.pyplot as plt"
   ]
  },
  {
   "cell_type": "code",
   "execution_count": 2,
   "outputs": [],
   "source": [
    "H = 400 # Height of an image\n",
    "W = 400 # Width of an image\n",
    "f = 1200 # Focal distance"
   ],
   "metadata": {
    "collapsed": false
   }
  },
  {
   "cell_type": "code",
   "execution_count": 3,
   "outputs": [],
   "source": [
    "rays_o = np.zeros((H*W, 3)) # Focal origin\n",
    "rays_d = np.zeros((H*W, 3)) # Direction of each ray\n",
    "\n",
    "u = np.arange(W)\n",
    "v = np.arange(H)\n",
    "\n",
    "u, v = np.meshgrid(u, v) # initialize image grid\n",
    "\n",
    "dirs = np.stack((u - W / 2,\n",
    "                 -(v - H / 2),\n",
    "                 -np.ones_like(u) * f), axis=-1) # stack the 3 vectors together\n",
    "rays_d = dirs / np.linalg.norm(dirs, axis=-1, keepdims=True) # normalize the direction vector\n",
    "rays_d = rays_d.reshape(-1,3)"
   ],
   "metadata": {
    "collapsed": false
   }
  },
  {
   "cell_type": "code",
   "execution_count": 5,
   "outputs": [],
   "source": [
    "def plot_rays(o, d, t):\n",
    "    fig = plt.figure(figsize=(12, 12))\n",
    "    ax = plt.axes(projection='3d')\n",
    "\n",
    "    pt1 = o\n",
    "    pt2 = o + t * d # where the ray is after time t\n",
    "\n",
    "    for p1, p2 in zip(pt1[::10], pt2[::10]): # merge 2 stuff together (pytorch)\n",
    "        plt.plot([p1[0], p2[0]], [p1[1], p2[1]], [p1[2], p2[2]])\n",
    "\n",
    "    plt.show()"
   ],
   "metadata": {
    "collapsed": false
   }
  },
  {
   "cell_type": "code",
   "execution_count": 6,
   "outputs": [],
   "source": [
    "#plot_rays(rays_o, rays_d, 1)"
   ],
   "metadata": {
    "collapsed": false
   }
  },
  {
   "cell_type": "code",
   "execution_count": 118,
   "outputs": [],
   "source": [
    "class Sphere:\n",
    "    def __init__(self, position, radius, color):\n",
    "        self.position = position\n",
    "        self.radius = radius\n",
    "        self.color = color\n",
    "\n",
    "    def intersect(self, x):\n",
    "        # To make sure point x is inside the sphere so that it contains volume\n",
    "        cond = (x[:, 0] - self.position[0])**2 + (x[:, 1] - self.position[1])**2 + (x[:, 2] - self.position[2])**2 <= self.radius**2\n",
    "\n",
    "        num_rays = x.shape[0] # length of first dimension\n",
    "        colors = np.zeros((num_rays, 3))\n",
    "        density = np.zeros((num_rays, 1))\n",
    "        colors[cond] = self.color\n",
    "        density[cond] = 10\n",
    "        return colors"
   ],
   "metadata": {
    "collapsed": false
   }
  },
  {
   "cell_type": "code",
   "execution_count": null,
   "outputs": [],
   "source": [
    "s = Sphere(np.array([0., 0., -1.]), .1, np.array([1., 0., 0.]))"
   ],
   "metadata": {
    "collapsed": false
   }
  },
  {
   "cell_type": "code",
   "execution_count": 6,
   "outputs": [],
   "source": [
    "# tn, tf are in NeRF paper, represent near and far bound\n",
    "def rendering(rays_o, rays_d, tn, tf):\n",
    "    "
   ],
   "metadata": {
    "collapsed": false
   }
  }
 ],
 "metadata": {
  "kernelspec": {
   "display_name": "Python 3",
   "language": "python",
   "name": "python3"
  },
  "language_info": {
   "codemirror_mode": {
    "name": "ipython",
    "version": 2
   },
   "file_extension": ".py",
   "mimetype": "text/x-python",
   "name": "python",
   "nbconvert_exporter": "python",
   "pygments_lexer": "ipython2",
   "version": "2.7.6"
  }
 },
 "nbformat": 4,
 "nbformat_minor": 0
}

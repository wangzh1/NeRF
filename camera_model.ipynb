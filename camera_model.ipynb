{
 "cells": [
  {
   "cell_type": "code",
   "execution_count": 88,
   "metadata": {
    "collapsed": true
   },
   "outputs": [],
   "source": [
    "import numpy as np\n",
    "import matplotlib.pyplot as plt"
   ]
  },
  {
   "cell_type": "code",
   "execution_count": 89,
   "outputs": [],
   "source": [
    "H = 400 # Height of an image\n",
    "W = 400 # Width of an image\n",
    "f = 1200 # Focal distance"
   ],
   "metadata": {
    "collapsed": false
   }
  },
  {
   "cell_type": "code",
   "execution_count": 104,
   "outputs": [],
   "source": [
    "rays_o = np.zeros((H*W, 3)) # Focal origin\n",
    "rays_d = np.zeros((H*W, 3)) # Direction of each ray\n",
    "\n",
    "u = np.arange(W)\n",
    "v = np.arange(H)\n",
    "\n",
    "u, v = np.meshgrid(u, v) # initialize image grid\n",
    "\n",
    "dirs = np.stack((u - W / 2,\n",
    "                 -(v - H / 2),\n",
    "                 -np.ones_like(u) * f), axis=-1) # stack the 3 vectors together\n",
    "rays_d = dirs / np.linalg.norm(dirs, axis=-1, keepdims=True) # normalize the direction vector\n",
    "rays_d = rays_d.reshape(-1,3)"
   ],
   "metadata": {
    "collapsed": false
   }
  },
  {
   "cell_type": "code",
   "execution_count": 91,
   "outputs": [],
   "source": [
    "def plot_rays(o, d, t):\n",
    "    fig = plt.figure(figsize=(12, 12))\n",
    "    ax = plt.axes(projection='3d')\n",
    "\n",
    "    pt1 = o\n",
    "    pt2 = o + t * d # where the ray is after time t\n",
    "\n",
    "    for p1, p2 in zip(pt1[::10], pt2[::10]): # merge 2 stuff together (pytorch)\n",
    "        plt.plot([p1[0], p2[0]], [p1[1], p2[1]], [p1[2], p2[2]])\n",
    "\n",
    "    plt.show()"
   ],
   "metadata": {
    "collapsed": false
   }
  },
  {
   "cell_type": "code",
   "execution_count": 100,
   "outputs": [],
   "source": [
    "#plot_rays(rays_o, rays_d, 1)"
   ],
   "metadata": {
    "collapsed": false
   }
  },
  {
   "cell_type": "code",
   "execution_count": 118,
   "outputs": [],
   "source": [
    "class Sphere:\n",
    "    def __init__(self, position, radius, color):\n",
    "        self.position = position\n",
    "        self.radius = radius\n",
    "        self.color = color\n",
    "\n",
    "    def intersect(self, o, d):\n",
    "        # (ox + t*dx - x_c)^2 + (oy + t*dy - y_c)^2 +(oz + t*dz - z_c)^2 = r^2\n",
    "        # Solve the equation at^2 + bt + c = 0\n",
    "        # [:, i] means the i-th column\n",
    "        a = d[:, 0]**2 + d[:, 1]**2 + d[:, 2]**2\n",
    "        b = 2 * ( d[:, 0] * (o[:, 0] - self.position[0]) +\n",
    "                  d[:, 1] * (o[:, 1] - self.position[1]) +\n",
    "                  d[:, 2] * (o[:, 2] - self.position[2])\n",
    "                  )\n",
    "        c = ((o[:, 0] - self.position[0])**2 +\n",
    "             (o[:, 1] - self.position[1])**2 +\n",
    "             (o[:, 2] - self.position[2])) - self.radius**2\n",
    "\n",
    "        delta = b**2 - 4*a*c\n",
    "\n",
    "        cond = delta >= 0\n",
    "\n",
    "        num_rays = o.shape[0] # length of first dimension\n",
    "        colors = np.zeros((num_rays, 3))\n",
    "\n",
    "        colors[cond] = self.color\n",
    "        return colors"
   ],
   "metadata": {
    "collapsed": false
   }
  },
  {
   "cell_type": "code",
   "execution_count": 119,
   "outputs": [
    {
     "data": {
      "text/plain": "<matplotlib.image.AxesImage at 0x17748dfd0>"
     },
     "execution_count": 119,
     "metadata": {},
     "output_type": "execute_result"
    },
    {
     "data": {
      "text/plain": "<Figure size 640x480 with 1 Axes>",
      "image/png": "[encoded data removed]"
     },
     "metadata": {},
     "output_type": "display_data"
    }
   ],
   "source": [
    "s = Sphere(np.array([0., 0., -1.]), .1, np.array([1., 0., 0.]))\n",
    "\n",
    "# Ray tracing! Intersect the Sphere with infinite rays from origin to the pixels!\n",
    "c = s.intersect(rays_o, rays_d)\n",
    "img = c.reshape(H, W, 3)\n",
    "plt.imshow(img)"
   ],
   "metadata": {
    "collapsed": false
   }
  }
 ],
 "metadata": {
  "kernelspec": {
   "display_name": "Python 3",
   "language": "python",
   "name": "python3"
  },
  "language_info": {
   "codemirror_mode": {
    "name": "ipython",
    "version": 2
   },
   "file_extension": ".py",
   "mimetype": "text/x-python",
   "name": "python",
   "nbconvert_exporter": "python",
   "pygments_lexer": "ipython2",
   "version": "2.7.6"
  }
 },
 "nbformat": 4,
 "nbformat_minor": 0
}

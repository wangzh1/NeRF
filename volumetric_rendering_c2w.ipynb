{
 "cells": [
  {
   "cell_type": "code",
   "execution_count": 30,
   "metadata": {
    "collapsed": true
   },
   "outputs": [],
   "source": [
    "import numpy as np\n",
    "import matplotlib.pyplot as plt\n",
    "import torch"
   ]
  },
  {
   "cell_type": "code",
   "execution_count": 31,
   "metadata": {},
   "outputs": [],
   "source": [
    "c2w1 = np.array([0.34303784370422363,\n",
    "                 -0.8594792485237122,\n",
    "                 0.3789729177951813,\n",
    "                 3.7897279262542725,\n",
    "                 0.9393215775489807,\n",
    "                 0.3138796091079712,\n",
    "                 -0.13839992880821228,\n",
    "                 -1.3840025663375854,\n",
    "                 0.0,\n",
    "                 0.40345385670661926,\n",
    "                 0.9150000214576721,\n",
    "                 9.149999618530273,\n",
    "                 0.0,\n",
    "                 0.0,\n",
    "                 0.0,\n",
    "                 1.0])\n",
    "c2w1 = c2w1.reshape(4, 4)"
   ]
  },
  {
   "cell_type": "code",
   "execution_count": 32,
   "metadata": {
    "collapsed": false
   },
   "outputs": [],
   "source": [
    "H = 400 # Height of an image\n",
    "W = 400 # Width of an image\n",
    "f = 1200 # Focal distance"
   ]
  },
  {
   "cell_type": "code",
   "execution_count": 33,
   "metadata": {
    "collapsed": false
   },
   "outputs": [],
   "source": [
    "c2w = c2w1\n",
    "    \n",
    "rays_o = np.zeros((H*W, 3)) # Focal origin\n",
    "rays_d = np.zeros((H*W, 3)) # Direction of each ray\n",
    "\n",
    "u = np.arange(W)\n",
    "v = np.arange(H)\n",
    "u, v = np.meshgrid(u, v) # initialize image grid\n",
    "\n",
    "# origin: focal of the camera\n",
    "# direction: straight line between origin and pixels in the image\n",
    "dirs = np.stack((u - W / 2,\n",
    "                 -(v - H / 2),\n",
    "                 -np.ones_like(u) * f), axis=-1) # stack the 3 vectors together\n",
    "\n",
    "# because there is not unsqueeze in numpy, but it do have squeeze\n",
    "dirs = (c2w[:3, :3] @ dirs[..., None]).squeeze(-1)\n",
    "\n",
    "rays_d = dirs / np.linalg.norm(dirs, axis=-1, keepdims=True) # normalize the direction vector\n",
    "rays_d = rays_d.reshape(-1, 3)\n",
    "\n",
    "\n",
    "rays_o += c2w[:3, 3]"
   ]
  },
  {
   "cell_type": "code",
   "execution_count": 34,
   "metadata": {
    "collapsed": false
   },
   "outputs": [],
   "source": [
    "def plot_rays(o, d, t):\n",
    "    fig = plt.figure(figsize=(12, 12))\n",
    "    ax = plt.axes(projection='3d')\n",
    "\n",
    "    pt1 = o\n",
    "    pt2 = o + t * d # where the ray is after time t\n",
    "\n",
    "    for p1, p2 in zip(pt1[::10], pt2[::10]): # merge 2 stuff together (pytorch)\n",
    "        plt.plot([p1[0], p2[0]], [p1[1], p2[1]], [p1[2], p2[2]])\n",
    "\n",
    "    plt.show()"
   ]
  },
  {
   "cell_type": "code",
   "execution_count": 47,
   "metadata": {
    "collapsed": false
   },
   "outputs": [],
   "source": [
    "# plot_rays(rays_o, rays_d, 1)"
   ]
  },
  {
   "cell_type": "code",
   "execution_count": 82,
   "metadata": {
    "collapsed": false
   },
   "outputs": [],
   "source": [
    "class Sphere:\n",
    "    def __init__(self, position, radius, color):\n",
    "        self.position = position\n",
    "        self.radius = radius\n",
    "        self.color = color\n",
    "\n",
    "    def intersect(self, x):\n",
    "        # To make sure point x is inside the sphere so that it contains volume\n",
    "        \"\"\"\n",
    "        :param x: [batch_size, 3]\n",
    "        \"\"\"\n",
    "        cond = (x[:, 0] - self.position[0])**2 + (x[:, 1] - self.position[1])**2 + (x[:, 2] - self.position[2])**2 <= self.radius**2\n",
    "\n",
    "        num_rays = x.shape[0] # length of first dimension\n",
    "        colors = torch.zeros((num_rays, 3))\n",
    "        density = torch.zeros((num_rays, 1))\n",
    "        colors[cond] = self.color\n",
    "        density[cond] = 2\n",
    "\n",
    "        color_condition = x[:, 0] < 0\n",
    "        # 把x<0的地方的Red值存到temp里面\n",
    "        temp = colors[color_condition, 0].clone()\n",
    "        # 把x<0的地方的Green值存到Red里面，因为我们传进去的是全红，\n",
    "        # 所以其实这步是把这些地方的Red设为0\n",
    "        colors[color_condition, 0] = colors[color_condition, 1].clone()\n",
    "        # 最后把x<0的地方的绿色的值设为temp，等于说把红色的值移到绿色去\n",
    "        colors[color_condition, 1] = temp\n",
    "\n",
    "        return colors, density"
   ]
  },
  {
   "cell_type": "code",
   "execution_count": 83,
   "metadata": {
    "collapsed": false
   },
   "outputs": [],
   "source": [
    "s = Sphere(np.array([0., 0., -1.]), .1, np.array([1., 0., 0.]))"
   ]
  },
  {
   "cell_type": "code",
   "execution_count": 84,
   "metadata": {},
   "outputs": [],
   "source": [
    "def compute_accumulated_transmittance(betas):\n",
    "    # Returns the cumulative product of elements of input in the dimension dim.\n",
    "    accumulated_transmittance = torch.cumprod(betas, 1)\n",
    "    # [:-1]: returns the values except the last one.\n",
    "    accumulated_transmittance[:, 1:] = accumulated_transmittance[:, :-1]\n",
    "    accumulated_transmittance[:, 0] = 1.\n",
    "    return accumulated_transmittance\n"
   ]
  },
  {
   "cell_type": "code",
   "execution_count": 85,
   "metadata": {
    "collapsed": false
   },
   "outputs": [],
   "source": [
    "# tn, tf represent near and far bound\n",
    "def rendering(model, rays_o, rays_d, tn, tf, num_bins=100, device='cpu'):\n",
    "    t = torch.linspace(tn, tf, num_bins).to(device) # size: [num_bins]\n",
    "\n",
    "    # 1: start from 1,\n",
    "    # -1: start from 0, not include -1\n",
    "    # delta_i is the distance between adjacent samples.\n",
    "    delta = torch.cat((t[1:] - t[:-1], torch.tensor([1e10])))\n",
    "\n",
    "\n",
    "    \"\"\"\n",
    "    shape:\n",
    "    t: [num_bins]\n",
    "    ray_o: [num_rays, 3]\n",
    "    We want x: [num_rays, num_bins, 3]\n",
    "    Because for each ray, we need num_bins points,\n",
    "    the extra 3 dimensions contain position info.\n",
    "    So in order to get that dimension, virtual dimensions are\n",
    "    added like:\n",
    "    t: [1, num_bins, 1]\n",
    "    ray_o: [num_rays, 1, 3]\n",
    "    !!!!x currently is many many empty rays with many bins!!!!\n",
    "    we intersect the model with x, then we can get\n",
    "    many rendered rays.\n",
    "    \"\"\"\n",
    "    x = rays_o.unsqueeze(1) + t.unsqueeze(0).unsqueeze(-1) * rays_d.unsqueeze(1)\n",
    "    # Now x: [batch_size, 3]\n",
    " \n",
    "    colors, density = model.intersect(x.reshape(-1, 3))\n",
    "\n",
    "    colors = colors.reshape((x.shape[0], num_bins, 3)) # [num_rays, num_bins, 3]\n",
    "    density = density.reshape((x.shape[0], num_bins)) # [num_rays, num_bins]\n",
    "\n",
    "    alpha = 1 - torch.exp(-density * delta.unsqueeze(0)) # [num_rays, num_bins]\n",
    "    T = compute_accumulated_transmittance(1 - alpha)\n",
    "    c = (T.unsqueeze(-1) * alpha.unsqueeze(-1) * colors).sum(1) # [num_rays, 3] because sum(1)\n",
    "    \n",
    "    return c"
   ]
  },
  {
   "cell_type": "code",
   "execution_count": 86,
   "metadata": {},
   "outputs": [],
   "source": [
    "target_model = Sphere(torch.tensor([-0.5, 0, 0]), 1, torch.tensor([1., 0., 0.]))\n",
    "px_colors = rendering(target_model, torch.from_numpy(rays_o), torch.from_numpy(rays_d), 8, 12)"
   ]
  },
  {
   "cell_type": "code",
   "execution_count": 87,
   "metadata": {},
   "outputs": [],
   "source": [
    "img = px_colors.reshape(H, W, 3).cpu().numpy()"
   ]
  },
  {
   "cell_type": "code",
   "execution_count": 88,
   "metadata": {},
   "outputs": [
    {
     "data": {
      "image/png": "[encoded data removed]",
      "text/plain": [
       "<Figure size 640x480 with 1 Axes>"
      ]
     },
     "metadata": {},
     "output_type": "display_data"
    }
   ],
   "source": [
    "plt.imshow(img)\n",
    "plt.show()"
   ]
  },
  {
   "cell_type": "code",
   "execution_count": 10,
   "metadata": {
    "collapsed": false
   },
   "outputs": [],
   "source": [
    "# This is my target model\n",
    "target_model = Sphere(torch.tensor([0, 0, 0]), 1, torch.tensor([1., 0., 0.]))\n",
    "\n",
    "# This is the target color\n",
    "target_color = rendering(target_model, torch.from_numpy(rays_o), torch.from_numpy(rays_d), 8, 12)\n",
    "color_to_optimize = torch.tensor([0., 1., 0.], requires_grad=True)\n",
    "optimizer = torch.optim.SGD({color_to_optimize}, lr=1)"
   ]
  },
  {
   "cell_type": "code",
   "execution_count": 11,
   "metadata": {
    "collapsed": false
   },
   "outputs": [
    {
     "ename": "KeyboardInterrupt",
     "evalue": "",
     "output_type": "error",
     "traceback": [
      "\u001b[0;31m---------------------------------------------------------------------------\u001b[0m",
      "\u001b[0;31mKeyboardInterrupt\u001b[0m                         Traceback (most recent call last)",
      "Cell \u001b[0;32mIn[11], line 10\u001b[0m\n\u001b[1;32m      8\u001b[0m optimizer\u001b[39m.\u001b[39mzero_grad()\n\u001b[1;32m      9\u001b[0m \u001b[39m# call backward() to let grad of color_to_optimize be calculated.\u001b[39;00m\n\u001b[0;32m---> 10\u001b[0m loss\u001b[39m.\u001b[39;49mbackward()\n\u001b[1;32m     11\u001b[0m optimizer\u001b[39m.\u001b[39mstep()\n\u001b[1;32m     13\u001b[0m \u001b[39mif\u001b[39;00m epoch \u001b[39m%\u001b[39m \u001b[39m10\u001b[39m \u001b[39m==\u001b[39m \u001b[39m0\u001b[39m:\n",
      "File \u001b[0;32m~/opt/anaconda3/lib/python3.9/site-packages/torch/_tensor.py:488\u001b[0m, in \u001b[0;36mTensor.backward\u001b[0;34m(self, gradient, retain_graph, create_graph, inputs)\u001b[0m\n\u001b[1;32m    478\u001b[0m \u001b[39mif\u001b[39;00m has_torch_function_unary(\u001b[39mself\u001b[39m):\n\u001b[1;32m    479\u001b[0m     \u001b[39mreturn\u001b[39;00m handle_torch_function(\n\u001b[1;32m    480\u001b[0m         Tensor\u001b[39m.\u001b[39mbackward,\n\u001b[1;32m    481\u001b[0m         (\u001b[39mself\u001b[39m,),\n\u001b[0;32m   (...)\u001b[0m\n\u001b[1;32m    486\u001b[0m         inputs\u001b[39m=\u001b[39minputs,\n\u001b[1;32m    487\u001b[0m     )\n\u001b[0;32m--> 488\u001b[0m torch\u001b[39m.\u001b[39;49mautograd\u001b[39m.\u001b[39;49mbackward(\n\u001b[1;32m    489\u001b[0m     \u001b[39mself\u001b[39;49m, gradient, retain_graph, create_graph, inputs\u001b[39m=\u001b[39;49minputs\n\u001b[1;32m    490\u001b[0m )\n",
      "File \u001b[0;32m~/opt/anaconda3/lib/python3.9/site-packages/torch/autograd/__init__.py:197\u001b[0m, in \u001b[0;36mbackward\u001b[0;34m(tensors, grad_tensors, retain_graph, create_graph, grad_variables, inputs)\u001b[0m\n\u001b[1;32m    192\u001b[0m     retain_graph \u001b[39m=\u001b[39m create_graph\n\u001b[1;32m    194\u001b[0m \u001b[39m# The reason we repeat same the comment below is that\u001b[39;00m\n\u001b[1;32m    195\u001b[0m \u001b[39m# some Python versions print out the first line of a multi-line function\u001b[39;00m\n\u001b[1;32m    196\u001b[0m \u001b[39m# calls in the traceback and some print out the last line\u001b[39;00m\n\u001b[0;32m--> 197\u001b[0m Variable\u001b[39m.\u001b[39;49m_execution_engine\u001b[39m.\u001b[39;49mrun_backward(  \u001b[39m# Calls into the C++ engine to run the backward pass\u001b[39;49;00m\n\u001b[1;32m    198\u001b[0m     tensors, grad_tensors_, retain_graph, create_graph, inputs,\n\u001b[1;32m    199\u001b[0m     allow_unreachable\u001b[39m=\u001b[39;49m\u001b[39mTrue\u001b[39;49;00m, accumulate_grad\u001b[39m=\u001b[39;49m\u001b[39mTrue\u001b[39;49;00m)\n",
      "\u001b[0;31mKeyboardInterrupt\u001b[0m: "
     ]
    }
   ],
   "source": [
    "for epoch in range(100):\n",
    "    # I want to optimize the color to retrieve an image similar to target\n",
    "    model_to_optimize = Sphere(torch.tensor([0., 0., -1]), 0.1, color_to_optimize)\n",
    "\n",
    "    Ax = rendering(model_to_optimize, torch.from_numpy(rays_o), torch.from_numpy(rays_d), 0.8, 1.2)\n",
    "\n",
    "    loss = ((Ax - target_color) ** 2).mean()\n",
    "    optimizer.zero_grad()\n",
    "    # call backward() to let grad of color_to_optimize be calculated.\n",
    "    loss.backward()\n",
    "    optimizer.step()\n",
    "\n",
    "    if epoch % 10 == 0:\n",
    "        temporal_image = Ax.reshape(H, W, 3).cpu().data.numpy()\n",
    "        # plt.imshow(temporal_image)\n",
    "        # plt.show()"
   ]
  }
 ],
 "metadata": {
  "kernelspec": {
   "display_name": "Python 3",
   "language": "python",
   "name": "python3"
  },
  "language_info": {
   "codemirror_mode": {
    "name": "ipython",
    "version": 3
   },
   "file_extension": ".py",
   "mimetype": "text/x-python",
   "name": "python",
   "nbconvert_exporter": "python",
   "pygments_lexer": "ipython3",
   "version": "3.9.13"
  }
 },
 "nbformat": 4,
 "nbformat_minor": 0
}
